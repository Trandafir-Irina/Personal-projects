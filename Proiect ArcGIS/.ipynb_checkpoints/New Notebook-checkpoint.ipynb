{
 "cells": [
  {
   "cell_type": "code",
   "execution_count": 7,
   "metadata": {},
   "outputs": [
    {
     "ename": "<class 'RuntimeError'>",
     "evalue": "cannot open 'C:\\Users\\Trandafir Irina\\Downloads\\religii_judete.xlsx'",
     "output_type": "error",
     "traceback": [
      "\u001b[1;31m---------------------------------------------------------------------------\u001b[0m",
      "\u001b[1;31mRuntimeError\u001b[0m                              Traceback (most recent call last)",
      "Cell \u001b[1;32mIn[7], line 19\u001b[0m\n\u001b[0;32m      3\u001b[0m tbl \u001b[38;5;241m=\u001b[39m \u001b[38;5;124m'\u001b[39m\u001b[38;5;124mC:\u001b[39m\u001b[38;5;130;01m\\\\\u001b[39;00m\u001b[38;5;124mUsers\u001b[39m\u001b[38;5;130;01m\\\\\u001b[39;00m\u001b[38;5;124mTrandafir Irina\u001b[39m\u001b[38;5;130;01m\\\\\u001b[39;00m\u001b[38;5;124mDownloads\u001b[39m\u001b[38;5;130;01m\\\\\u001b[39;00m\u001b[38;5;124mreligii_judete.xlsx\u001b[39m\u001b[38;5;124m'\u001b[39m\n\u001b[0;32m      4\u001b[0m flds \u001b[38;5;241m=\u001b[39m [\u001b[38;5;124m\"\u001b[39m\u001b[38;5;124mOrtodoxa (Biserica Ortodoxa Româna)\u001b[39m\u001b[38;5;124m\"\u001b[39m, \u001b[38;5;124m\"\u001b[39m\u001b[38;5;124mRomano-Catolica\u001b[39m\u001b[38;5;124m\"\u001b[39m, \n\u001b[0;32m      5\u001b[0m         \u001b[38;5;124m\"\u001b[39m\u001b[38;5;124mReformata\u001b[39m\u001b[38;5;124m\"\u001b[39m, \u001b[38;5;124m\"\u001b[39m\u001b[38;5;124mPenticostala (Cultul Crestin Penticostal - Biserica lui Dumnezeu Apostolica)\u001b[39m\u001b[38;5;124m\"\u001b[39m, \n\u001b[0;32m      6\u001b[0m         \u001b[38;5;124m\"\u001b[39m\u001b[38;5;124mGreco-Catolica (Biserica Romana Unita cu Roma)\u001b[39m\u001b[38;5;124m\"\u001b[39m,\n\u001b[1;32m   (...)\u001b[0m\n\u001b[0;32m     16\u001b[0m        \u001b[38;5;124m\"\u001b[39m\u001b[38;5;124mAlta religie (asociatii religioase sau grupari religioase)\u001b[39m\u001b[38;5;124m\"\u001b[39m,\n\u001b[0;32m     17\u001b[0m        \u001b[38;5;124m\"\u001b[39m\u001b[38;5;124mFara religie\u001b[39m\u001b[38;5;124m\"\u001b[39m,\u001b[38;5;124m\"\u001b[39m\u001b[38;5;124mAteu\u001b[39m\u001b[38;5;124m\"\u001b[39m, \u001b[38;5;124m\"\u001b[39m\u001b[38;5;124mAgnostic\u001b[39m\u001b[38;5;124m\"\u001b[39m, \u001b[38;5;124m\"\u001b[39m\u001b[38;5;124mInformatie nedisponibila\u001b[39m\u001b[38;5;124m\"\u001b[39m ]\n\u001b[1;32m---> 19\u001b[0m \u001b[38;5;28;01mwith\u001b[39;00m arcpy\u001b[38;5;241m.\u001b[39mda\u001b[38;5;241m.\u001b[39mSearchCursor(tbl, flds) \u001b[38;5;28;01mas\u001b[39;00m cur:\n\u001b[0;32m     20\u001b[0m     \u001b[38;5;28;01mfor\u001b[39;00m row \u001b[38;5;129;01min\u001b[39;00m cur:\n\u001b[0;32m     21\u001b[0m         \u001b[38;5;28mprint\u001b[39m(row\u001b[38;5;241m.\u001b[39mindex(\u001b[38;5;28mmax\u001b[39m(row)))\n",
      "\u001b[1;31mRuntimeError\u001b[0m: cannot open 'C:\\Users\\Trandafir Irina\\Downloads\\religii_judete.xlsx'"
     ]
    }
   ],
   "source": [
    "import arcpy\n",
    "\n",
    "tbl = 'C:\\\\Users\\\\Trandafir Irina\\\\Downloads\\\\religii_judete.xlsx'\n",
    "flds = [\"Ortodoxa (Biserica Ortodoxa Româna)\", \"Romano-Catolica\", \n",
    "        \"Reformata\", \"Penticostala (Cultul Crestin Penticostal - Biserica lui Dumnezeu Apostolica)\", \n",
    "        \"Greco-Catolica (Biserica Romana Unita cu Roma)\",\n",
    "        \"Baptista (Cultul Crestin Baptist)\", \"Adventista de Ziua a Saptea\",  \n",
    "        \"Musulmana (Cultul Musulman)\",\n",
    "       \"Unitariana (Biserica Unitariana Maghiara)\", \"Martorii lui Iehova\",\n",
    "       \"Crestina dupa Evanghelie\", \"Crestina de Rit Vechi\",\n",
    "       \"Evanghelica Lutherana (Biserica Evanghelica Lutherana din România)\",\n",
    "       \"Ortodoxa Sarba\", \"Evanghelica (Biserica Evanghelica Romana)\",\n",
    "       \"Evanghelica de Confesiune Augustana\", \n",
    "        \"Mozaica (Federatia Comunitatilor Evreiesti din România - Cultul Mozaic)\",\n",
    "       \"Armeana (Arhiepiscopia Bisericii Armene)\",\n",
    "       \"Alta religie (asociatii religioase sau grupari religioase)\",\n",
    "       \"Fara religie\",\"Ateu\", \"Agnostic\", \"Informatie nedisponibila\" ]\n",
    "\n",
    "with arcpy.da.SearchCursor(tbl, flds) as cur:\n",
    "    for row in cur:\n",
    "        print(row.index(max(row)))"
   ]
  },
  {
   "cell_type": "code",
   "execution_count": null,
   "metadata": {},
   "outputs": [],
   "source": []
  }
 ],
 "metadata": {
  "kernelspec": {
   "display_name": "ArcGISPro",
   "language": "python",
   "name": "python3"
  },
  "language_info": {
   "file_extension": ".py",
   "mimetype": "text/x-python",
   "name": "python",
   "version": "3.11.10"
  }
 },
 "nbformat": 4,
 "nbformat_minor": 4
}
